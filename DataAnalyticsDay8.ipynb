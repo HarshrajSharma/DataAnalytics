{
  "nbformat": 4,
  "nbformat_minor": 0,
  "metadata": {
    "colab": {
      "provenance": [],
      "authorship_tag": "ABX9TyNuVDQM5QAAffkpF3LJ3QSG",
      "include_colab_link": true
    },
    "kernelspec": {
      "name": "python3",
      "display_name": "Python 3"
    },
    "language_info": {
      "name": "python"
    }
  },
  "cells": [
    {
      "cell_type": "markdown",
      "metadata": {
        "id": "view-in-github",
        "colab_type": "text"
      },
      "source": [
        "<a href=\"https://colab.research.google.com/github/HarshrajSharma/DataAnalytics/blob/main/DataAnalyticsDay8.ipynb\" target=\"_parent\"><img src=\"https://colab.research.google.com/assets/colab-badge.svg\" alt=\"Open In Colab\"/></a>"
      ]
    },
    {
      "cell_type": "markdown",
      "source": [
        "### **Panda Library**"
      ],
      "metadata": {
        "id": "vsTGrbzWZnUD"
      }
    },
    {
      "cell_type": "code",
      "execution_count": 9,
      "metadata": {
        "colab": {
          "base_uri": "https://localhost:8080/"
        },
        "id": "1Y-TJx2ZOrdD",
        "outputId": "47f9ddc1-a0f7-4b36-d244-52fbf879acc7"
      },
      "outputs": [
        {
          "output_type": "stream",
          "name": "stdout",
          "text": [
            "   calories  duration\n",
            "0       420        70\n",
            "1       380        50\n",
            "2       390        60\n",
            "   calories  duration\n",
            "0       420        70\n",
            "1       380        50\n",
            "2       390        60\n"
          ]
        }
      ],
      "source": [
        "import pandas as pd\n",
        "data={'calories':[420, 380, 390],\n",
        "      'duration':[70, 50, 60]\n",
        "      }\n",
        "myvar=pd.DataFrame(data)\n",
        "print(myvar)\n",
        "print(myvar.loc[0:2])\n",
        "\n",
        "\n"
      ]
    },
    {
      "cell_type": "code",
      "source": [
        "data={'startCoordinate':[200, 380, 590],\n",
        "      'endCoordinate':[300, 500, 760]\n",
        "      }\n",
        "myvar=pd.DataFrame(data, index=['sample1', 'sample2', 'sample3'])\n",
        "print(myvar)\n",
        "print('End co-ordinate of sample1:', myvar.loc[\"sample1\", \"startCoordinate\"])\n",
        "print('End co-ordinate of sample2:', myvar.loc[\"sample2\", \"startCoordinate\"])\n",
        "print('End co-ordinate of sample3:', myvar.loc[\"sample3\", \"startCoordinate\"])\n"
      ],
      "metadata": {
        "colab": {
          "base_uri": "https://localhost:8080/"
        },
        "id": "zWoRcPNmcnRd",
        "outputId": "655b5d19-de47-46f9-ddbe-766f2b432912"
      },
      "execution_count": 33,
      "outputs": [
        {
          "output_type": "stream",
          "name": "stdout",
          "text": [
            "         startCoordinate  endCoordinate\n",
            "sample1              200            300\n",
            "sample2              380            500\n",
            "sample3              590            760\n",
            "End co-ordinate of sample1: 200\n",
            "End co-ordinate of sample2: 380\n",
            "End co-ordinate of sample3: 590\n"
          ]
        }
      ]
    },
    {
      "cell_type": "code",
      "source": [
        "from pandas.io.parsers.readers import read_csv\n",
        "df=pd.read_csv('data.csv')\n",
        "#print(df.to_string())\n",
        "#print(pd.options.display.max_rows)\n",
        "pd.options.display.max_rows=9999\n",
        "de=pd.read_csv('data.csv')\n",
        "#print(de)\n",
        "df.head(10)\n",
        "df.tail(10)\n",
        "#print(df.info()) #Finds the data types in the csv file\n",
        "\n",
        "#Question: Find the maximum value of a nimeric column and also print its tuple\n"
      ],
      "metadata": {
        "colab": {
          "base_uri": "https://localhost:8080/"
        },
        "id": "TDcbI6IReFjU",
        "outputId": "10882e6e-6d12-4c79-f4f1-f2d92100ca24"
      },
      "execution_count": 34,
      "outputs": [
        {
          "output_type": "stream",
          "name": "stdout",
          "text": [
            "<class 'pandas.core.frame.DataFrame'>\n",
            "RangeIndex: 6600 entries, 0 to 6599\n",
            "Data columns (total 10 columns):\n",
            " #   Column                       Non-Null Count  Dtype \n",
            "---  ------                       --------------  ----- \n",
            " 0   Year                         6600 non-null   int64 \n",
            " 1   Industry_aggregation_NZSIOC  6600 non-null   object\n",
            " 2   Industry_code_NZSIOC         6600 non-null   object\n",
            " 3   Industry_name_NZSIOC         6600 non-null   object\n",
            " 4   Units                        6600 non-null   object\n",
            " 5   Variable_code                6600 non-null   object\n",
            " 6   Variable_name                6600 non-null   object\n",
            " 7   Variable_category            6600 non-null   object\n",
            " 8   Value                        6599 non-null   object\n",
            " 9   Industry_code_ANZSIC06       6599 non-null   object\n",
            "dtypes: int64(1), object(9)\n",
            "memory usage: 515.8+ KB\n",
            "None\n"
          ]
        }
      ]
    }
  ]
}