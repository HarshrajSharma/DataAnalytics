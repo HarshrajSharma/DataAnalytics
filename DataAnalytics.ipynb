{
  "nbformat": 4,
  "nbformat_minor": 0,
  "metadata": {
    "colab": {
      "provenance": [],
      "authorship_tag": "ABX9TyMIgYB4Jyf3i1rtt+267XWW",
      "include_colab_link": true
    },
    "kernelspec": {
      "name": "python3",
      "display_name": "Python 3"
    },
    "language_info": {
      "name": "python"
    }
  },
  "cells": [
    {
      "cell_type": "markdown",
      "metadata": {
        "id": "view-in-github",
        "colab_type": "text"
      },
      "source": [
        "<a href=\"https://colab.research.google.com/github/HarshrajSharma/DataAnalytics/blob/main/DataAnalytics.ipynb\" target=\"_parent\"><img src=\"https://colab.research.google.com/assets/colab-badge.svg\" alt=\"Open In Colab\"/></a>"
      ]
    },
    {
      "cell_type": "markdown",
      "source": [
        "# **Day3**"
      ],
      "metadata": {
        "id": "8so_mEV-ANZ1"
      }
    },
    {
      "cell_type": "code",
      "execution_count": null,
      "metadata": {
        "colab": {
          "base_uri": "https://localhost:8080/"
        },
        "id": "116_7dss8s3h",
        "outputId": "db906702-0d8f-49b5-a652-2232e5fa6fce"
      },
      "outputs": [
        {
          "output_type": "stream",
          "name": "stdout",
          "text": [
            "2 4 6\n",
            "Value of x: 2\n",
            "Value of x:2, y:4, z:6\n"
          ]
        }
      ],
      "source": [
        "#Variables\n",
        "x,y,z=2,4,6\n",
        "\n",
        "#Print\n",
        "print(x,y,z)\n",
        "print('Value of x:',x)\n",
        "print('Value of x:{0}, y:{1}, z:{2}'.format(x,y,z))"
      ]
    },
    {
      "cell_type": "code",
      "source": [
        "#Input\n",
        "\n",
        "num1=input('Enter number1: ')\n",
        "num2=input('Enter number2: ')\n",
        "ans=num1+num2 #This will concatinate the vars\n",
        "print(ans)\n",
        "\n",
        "print(type(ans))\n",
        "\n",
        "num1=eval(input('Enter number1: '))\n",
        "num2=eval(input('Enter number2: '))\n",
        "ans=num1+num2 #This will evaluate the vars\n",
        "print(ans)\n",
        "\n",
        "print(type(ans))\n",
        "\n"
      ],
      "metadata": {
        "id": "veeLmoHTDL6X"
      },
      "execution_count": null,
      "outputs": []
    },
    {
      "cell_type": "code",
      "source": [
        "dir(__builtins__)\n",
        "help(max)\n",
        "\n",
        "#Using max function\n",
        "maxVal=max(5,8,9,1,5,4,6,3,7,2,1,0,3,6)\n",
        "print('Maximum Value: ', maxVal)\n",
        "\n",
        "#Using min function\n",
        "minVal=min('hello', 'how', 'are')\n",
        "print('Minimum Value: ', minVal) #Checked according to ASCII"
      ],
      "metadata": {
        "id": "_xCpDlHNEEED"
      },
      "execution_count": null,
      "outputs": []
    },
    {
      "cell_type": "code",
      "source": [
        "#Random Module\n",
        "import random\n",
        "\n",
        "z=random.random()\n",
        "print('Random Value: ', z)"
      ],
      "metadata": {
        "colab": {
          "base_uri": "https://localhost:8080/"
        },
        "id": "VQ6s4SnLFwCf",
        "outputId": "aed3518f-6113-4494-ba96-d46a523d3e05"
      },
      "execution_count": null,
      "outputs": [
        {
          "output_type": "stream",
          "name": "stdout",
          "text": [
            "Random Value:  0.3612054457727405\n"
          ]
        }
      ]
    },
    {
      "cell_type": "code",
      "source": [
        "#If else statement\n",
        "import random\n",
        "\n",
        "randValue=random.random()\n",
        "print('Random Value: ', randValue)\n",
        "\n",
        "if randValue<0.5:\n",
        "  print('Player1')\n",
        "else:\n",
        "  print('Player2')"
      ],
      "metadata": {
        "id": "INNFOVDOGJq9"
      },
      "execution_count": null,
      "outputs": []
    },
    {
      "cell_type": "code",
      "source": [
        "#Math module\n",
        "import math\n",
        "\n",
        "print(math.fabs(-3.5))\n",
        "print(math.ceil(3.4))\n",
        "print(math.floor(3.2))\n",
        "\n",
        "#help(math)"
      ],
      "metadata": {
        "id": "H7KmmMLLG9Nn"
      },
      "execution_count": null,
      "outputs": []
    },
    {
      "cell_type": "code",
      "source": [
        "#Functions\n",
        "def rectangle(l, b):\n",
        "  a=l*b\n",
        "  return a\n",
        "\n",
        "def main():\n",
        "  length=eval(input('Enter length of the rectangle: '))\n",
        "  breadth=eval(input('Enter breadth of the rectangle: '))\n",
        "  area=rectangle(length, breadth)\n",
        "  print('Area of the rectangle {0}'.format(area))\n",
        "\n",
        "main()"
      ],
      "metadata": {
        "colab": {
          "base_uri": "https://localhost:8080/"
        },
        "id": "iQ6lpEXYLSDw",
        "outputId": "e8663951-3df4-4a46-df27-cd576d55f749"
      },
      "execution_count": null,
      "outputs": [
        {
          "output_type": "stream",
          "name": "stdout",
          "text": [
            "Enter length of the rectangle: 5\n",
            "Enter breadth of the rectangle: 6\n",
            "Area of the rectangle 30\n"
          ]
        }
      ]
    },
    {
      "cell_type": "code",
      "source": [
        "#Running the uploaded file\n",
        "!python /content/Area.py"
      ],
      "metadata": {
        "id": "5JOdzCywROBb"
      },
      "execution_count": null,
      "outputs": []
    },
    {
      "cell_type": "code",
      "source": [
        "import Area\n",
        "\n",
        "def main():\n",
        "  side=eval(input('Enter the length: '))\n",
        "  area=Area.square(side)\n",
        "  print('Area of the square: {0}'.format(area))\n",
        "\n",
        "main()"
      ],
      "metadata": {
        "colab": {
          "base_uri": "https://localhost:8080/"
        },
        "id": "2DBrzgmPPrfc",
        "outputId": "85e97f33-aa02-48d5-82a2-0f9dc2c9c9a8"
      },
      "execution_count": null,
      "outputs": [
        {
          "output_type": "stream",
          "name": "stdout",
          "text": [
            "Enter the length: 5\n",
            "Area of the square: 25\n"
          ]
        }
      ]
    },
    {
      "cell_type": "code",
      "source": [
        "!python /content/Auth.py"
      ],
      "metadata": {
        "id": "5LUH_hr5ThQI"
      },
      "execution_count": null,
      "outputs": []
    },
    {
      "cell_type": "code",
      "source": [
        "#Auth \n",
        "import Auth\n",
        "\n",
        "def main():\n",
        "  username=input('Enter username: ')\n",
        "  password=input('Enter password: ')\n",
        "\n",
        "  Auth.auth(username, password)\n",
        "\n",
        "main()"
      ],
      "metadata": {
        "colab": {
          "base_uri": "https://localhost:8080/"
        },
        "id": "bOcrRDXlTkxl",
        "outputId": "a1e47ce7-19f2-4fa0-de8d-79a63b6f8a02"
      },
      "execution_count": null,
      "outputs": [
        {
          "output_type": "stream",
          "name": "stdout",
          "text": [
            "Enter username: admin\n",
            "Enter password: admin5\n",
            "User Authenticated!\n"
          ]
        }
      ]
    },
    {
      "cell_type": "code",
      "source": [
        "#loop\n",
        "for i in range(1,9): #Will run form start to n-1\n",
        "  print(i)\n",
        "\n",
        "print('=====================')\n",
        "\n",
        "for i in range(1,9,2): #Third parameter is the number of jumps it taked in every interation\n",
        "    print(i)"
      ],
      "metadata": {
        "id": "a_jLHoWaVs-j"
      },
      "execution_count": null,
      "outputs": []
    },
    {
      "cell_type": "code",
      "source": [
        "#Auth \n",
        "import Auth\n",
        "\n",
        "def main():\n",
        "\n",
        "  counter=0\n",
        "  for i in range(1, 11):\n",
        "    username=input('Enter username: ')\n",
        "    password=input('Enter password: ')\n",
        "    Auth.auth(username, password)\n",
        "\n",
        "main()"
      ],
      "metadata": {
        "id": "-cjL8yV2WZD7"
      },
      "execution_count": null,
      "outputs": []
    },
    {
      "cell_type": "code",
      "source": [
        "#Python list(not an array but similar)\n",
        "import random\n",
        "myList=[]\n",
        "\n",
        "for i in range(0,100):\n",
        "    x=random.randint(2,)"
      ],
      "metadata": {
        "id": "olQTE-RVXpVQ"
      },
      "execution_count": null,
      "outputs": []
    },
    {
      "cell_type": "markdown",
      "source": [
        "**Data types in Python**\n",
        "\n",
        "1. i => integer\n",
        "2. b => boolena\n",
        "3. u => unsigned integer\n",
        "4. f => float\n",
        "5. c => complex float\n",
        "6. m => time delta\n",
        "7. M => date time\n",
        "8. O => object\n",
        "9. S => string\n",
        "10. U => unicode string\n",
        "11. V => void\n",
        "\n",
        "\n",
        "**Standard data types in python (Upper types are categorized in these types )**\n",
        "\n",
        "1. Numeric\n",
        "2. String\n",
        "3. List\n",
        "4. Tuple\n",
        "5. Set\n",
        "6. Dictionary\n"
      ],
      "metadata": {
        "id": "vtEGlPDYX9ED"
      }
    }
  ]
}