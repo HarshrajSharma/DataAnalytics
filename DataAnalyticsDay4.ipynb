{
  "nbformat": 4,
  "nbformat_minor": 0,
  "metadata": {
    "colab": {
      "provenance": [],
      "authorship_tag": "ABX9TyNzuiOYR/Pp6sWOuPmB2+MF",
      "include_colab_link": true
    },
    "kernelspec": {
      "name": "python3",
      "display_name": "Python 3"
    },
    "language_info": {
      "name": "python"
    }
  },
  "cells": [
    {
      "cell_type": "markdown",
      "metadata": {
        "id": "view-in-github",
        "colab_type": "text"
      },
      "source": [
        "<a href=\"https://colab.research.google.com/github/HarshrajSharma/DataAnalytics/blob/main/DataAnalyticsDay4.ipynb\" target=\"_parent\"><img src=\"https://colab.research.google.com/assets/colab-badge.svg\" alt=\"Open In Colab\"/></a>"
      ]
    },
    {
      "cell_type": "markdown",
      "source": [
        "### **Day4**"
      ],
      "metadata": {
        "id": "cFWBv8T67VNu"
      }
    },
    {
      "cell_type": "code",
      "execution_count": 4,
      "metadata": {
        "colab": {
          "base_uri": "https://localhost:8080/"
        },
        "id": "xDtV0eIG7Q9y",
        "outputId": "ba5cd498-a6c4-429c-f681-53a09a6317d1"
      },
      "outputs": [
        {
          "output_type": "stream",
          "name": "stdout",
          "text": [
            "<class 'tuple'>\n",
            "<class 'list'>\n"
          ]
        }
      ],
      "source": [
        "#Create a list \n",
        "\n",
        "\n",
        "y=('Apple',2,3,4) #Tuple: Can keep different types of elements\n",
        "z=[1,2,3,4] #List: Can keep only same types of elements\n",
        "\n",
        "print(type(y))\n",
        "print(type(z))"
      ]
    },
    {
      "cell_type": "code",
      "source": [
        "myList=[]\n",
        "myTuple=()\n",
        "\n",
        "for i in range(0, 1000000):\n",
        "  myList.append(i)\n",
        "  myTuple.append(i)\n",
        "\n",
        "print(myList)\n",
        "print(myTuple)"
      ],
      "metadata": {
        "id": "k5aqlfB993Ek"
      },
      "execution_count": null,
      "outputs": []
    },
    {
      "cell_type": "code",
      "source": [
        "#Inbuilt functions for lists\n",
        "\n",
        "myList=list(range(0, 1000)) #list(range(0,345)) will create a list with sequential data\n",
        "print(myList)\n",
        "\n",
        "myTuple=tuple(range(0, 1000)) #tuple(range(0,345)) will create a list with sequential data\n",
        "print(myTuple)\n",
        "\n",
        "#Tuple used less memory than list for the same data\n",
        "#List is mutable whereas Tuple is immutable\n"
      ],
      "metadata": {
        "id": "x7U7PFqi-2d9"
      },
      "execution_count": null,
      "outputs": []
    },
    {
      "cell_type": "code",
      "source": [
        "import sys, platform,time\n",
        "\n",
        "myList=list(range(0, 100000))\n",
        "#myList[4]=1001  #Mutable\n",
        "\n",
        "myTuple=tuple(range(0, 100000))\n",
        "#myTuple[4]=5001 #Immutable\n",
        "\n",
        "print('List memory: ',sys.getsizeof(myList))\n",
        "print('Tuple memory: ', sys.getsizeof(myTuple))\n",
        "\n",
        "start=time.time_ns()\n",
        "for i in range(0, len(myList)):\n",
        "  a=myList[i]\n",
        "end=time.time_ns()\n",
        "print('Total time for list:', end- start)\n",
        "\n",
        "start=time.time_ns()\n",
        "for i in range(0, len(myTuple)):\n",
        "  a=myTuple[i]\n",
        "end=time.time_ns()\n",
        "print('Total time for tuple:', end- start)"
      ],
      "metadata": {
        "id": "YrrkLs5JADR-"
      },
      "execution_count": null,
      "outputs": []
    },
    {
      "cell_type": "code",
      "source": [
        "myList=list(range(0, 1000))\n",
        "squareList=[]\n",
        "\n",
        "print(myList[4:]) #Prints from 4 to the last element in the list\n",
        "\n",
        "\n",
        "for i in myList:\n",
        "  squareList.append(i**2)\n",
        "\n",
        "print(squareList)\n"
      ],
      "metadata": {
        "id": "R5O_dCTEDvTh"
      },
      "execution_count": null,
      "outputs": []
    },
    {
      "cell_type": "code",
      "source": [
        "#Find an element 22 in the list\n",
        "myList=list(range(0, 11))\n",
        "myList[4]=56\n",
        "print(myList)\n",
        "\n",
        "print(myList.index(56)) # .index() will give the index of the element if it is present in the list\n",
        "myList.remove(2)\n",
        "print(myList)\n"
      ],
      "metadata": {
        "colab": {
          "base_uri": "https://localhost:8080/"
        },
        "id": "07N7ihbUEXGc",
        "outputId": "7ce5e396-01e9-4f0b-91d2-68452f66d141"
      },
      "execution_count": 53,
      "outputs": [
        {
          "output_type": "stream",
          "name": "stdout",
          "text": [
            "[0, 1, 2, 3, 56, 5, 6, 7, 8, 9, 10]\n",
            "4\n",
            "[0, 1, 3, 56, 5, 6, 7, 8, 9, 10]\n"
          ]
        }
      ]
    },
    {
      "cell_type": "code",
      "source": [
        "#Remove all the elements from the third positionto last in a list\n",
        "\n",
        "myList=list(range(0,11))\n",
        "print(myList)\n",
        "\n",
        "del myList[2:] #Delete all the elements from 3rd position to the last\n",
        "print(myList)\n",
        "\n",
        "myList.pop(1) #Pops the element at position 0 in the list\n",
        "print(myList)"
      ],
      "metadata": {
        "colab": {
          "base_uri": "https://localhost:8080/"
        },
        "id": "sZ_GEXKAFhIr",
        "outputId": "83cbcff6-851d-4e06-bc69-804786b86b37"
      },
      "execution_count": 57,
      "outputs": [
        {
          "output_type": "stream",
          "name": "stdout",
          "text": [
            "[0, 1, 2, 3, 4, 5, 6, 7, 8, 9, 10]\n",
            "[0, 1]\n",
            "[0]\n"
          ]
        }
      ]
    },
    {
      "cell_type": "code",
      "source": [
        "#Sort function\n",
        "myList=[5,8,6,1,2,3,4,8,9,6,5,2,3,11]\n",
        "print(myList)\n",
        "myList.sort()\n",
        "print(myList)"
      ],
      "metadata": {
        "colab": {
          "base_uri": "https://localhost:8080/"
        },
        "id": "GdcPz2zNGKLx",
        "outputId": "d17be420-d3e4-47cf-9ee2-5673e310de6a"
      },
      "execution_count": 58,
      "outputs": [
        {
          "output_type": "stream",
          "name": "stdout",
          "text": [
            "[1, 2, 2, 3, 3, 4, 5, 5, 6, 6, 8, 8, 9, 11]\n"
          ]
        }
      ]
    },
    {
      "cell_type": "code",
      "source": [
        "#String library\n",
        "import string, random\n",
        "\n",
        "z=string.ascii_letters\n",
        "y=string.digits\n",
        "x=string.punctuation\n",
        "w=random.sample(z,6)\n",
        "v=random.choice(z)\n",
        "\n",
        "\n",
        "print(z)\n",
        "print(y)\n",
        "print(x)\n",
        "print(w)\n",
        "print(v)\n",
        "\n",
        "random.shuffle(w)\n",
        "print(w)"
      ],
      "metadata": {
        "colab": {
          "base_uri": "https://localhost:8080/"
        },
        "id": "aCAGnHsUHd_f",
        "outputId": "cccf254a-abd3-46c9-dc54-cc179d97f428"
      },
      "execution_count": 83,
      "outputs": [
        {
          "output_type": "stream",
          "name": "stdout",
          "text": [
            "abcdefghijklmnopqrstuvwxyzABCDEFGHIJKLMNOPQRSTUVWXYZ\n",
            "0123456789\n",
            "!\"#$%&'()*+,-./:;<=>?@[\\]^_`{|}~\n",
            "['T', 'h', 'V', 'S', 'J', 'l']\n",
            "f\n",
            "['l', 'J', 'T', 'h', 'V', 'S']\n"
          ]
        }
      ]
    },
    {
      "cell_type": "code",
      "source": [
        "#Generate a random password of length 10 such that 2 letters are upper case , 1 is a digit, 1 is a special character next find if @ is there in the password or not.\n",
        "#If not then replace the third character with @\n",
        "\n",
        "import string, random\n",
        "def generatePassword():\n",
        "  password=''\n",
        "\n",
        "  upCase=random.sample(string.ascii_uppercase, 2)\n",
        "  upCase=''.join(upCase)\n",
        "\n",
        "  digits=random.choice(string.digits)\n",
        "\n",
        "  specialChar=random.choice(string.punctuation)\n",
        "  \n",
        "  lowerCase=random.sample(string.ascii_lowercase, 6)\n",
        "  lowerCase=''.join(lowerCase)\n",
        "\n",
        "  password=digits+specialChar+upCase+lowerCase\n",
        "  if(password.find('@')==1):\n",
        "    return password\n",
        "  else:\n",
        "    #Pending: if the third character is the only digit or special character then it will be replaced\n",
        "    password=password[0:2]+'@'+password[3:]\n",
        "    print('Password: ', password[1], password)\n",
        "    \n",
        "    return password\n",
        "\n",
        "def main():\n",
        "  print('Generating Password....')\n",
        "  generatePassword()\n",
        "\n",
        "main()\n",
        "  \n"
      ],
      "metadata": {
        "colab": {
          "base_uri": "https://localhost:8080/"
        },
        "id": "x7ewhCoTG-WH",
        "outputId": "e0dacdd0-7c76-4741-a766-a4adb89433ee"
      },
      "execution_count": 103,
      "outputs": [
        {
          "output_type": "stream",
          "name": "stdout",
          "text": [
            "Generating Password....\n",
            "Password:  \" 8\"@Snvrewt\n"
          ]
        }
      ]
    },
    {
      "cell_type": "markdown",
      "source": [
        "### **Numpy**"
      ],
      "metadata": {
        "id": "-TRI951wRQhU"
      }
    },
    {
      "cell_type": "code",
      "source": [
        "from numpy.core.memmap import dtype\n",
        "import numpy as np\n",
        "\n",
        "arr=np.array([1,2,3,4,5])\n",
        "print(arr)\n",
        "print(arr.dtype)\n",
        "print(arr.shape) #Print (5, ) show the number of rows and columns\n",
        "print(arr.ndim)  #Prints the dimension of the array\n",
        "print(arr.size)\n",
        "\n",
        "arr1=np.array([[1,2,3,4,5],[1,2,3,4,5]])\n",
        "print(arr1)\n",
        "print(arr1.dtype)\n",
        "print(arr1.shape) #Print (2,5) show the number of rows and columns\n",
        "print(arr1.ndim)  #Prints the dimension of the array\n",
        "print(arr1.size)\n",
        "\n",
        "arr1=np.zeros((5,6))  #Fills all the element with zeros\n",
        "print(arr1)\n",
        "\n",
        "arr2=np.array([[1,2,3,4,5],[1,2,3,4,5]], dtype='float')\n",
        "print('Array:\\n', arr2)\n",
        "\n",
        "arr3=np.arange(0,30,5)\n",
        "print(arr3)\n",
        "\n",
        "arr4=np.random.random((2,4))\n",
        "print(arr4)\n",
        "\n",
        "arr6=np.array([2,4,6,8,9,11])\n",
        "print(arr6.ndim)\n",
        "newArr=arr6.reshape(2,3)\n",
        "print(newArr)\n",
        "\n",
        "#printing array\n",
        "for i in newArr:\n",
        "  for j in i:\n",
        "    print('The elements are:', j)\n",
        "\n",
        "arr7=np.array([1,2,3,4,5])\n",
        "arr8=np.array([6,7,8,9,10])\n",
        "arr9=np.concatenate((arr7, arr8)) #Arrays shoud be in same dimension\n",
        "print(arr9)\n",
        "\n",
        "x=np.where(newArr==4)\n",
        "print(x)\n",
        "\n",
        "#Create a 2D array the array should have sequence of numbers from 1 to 30 with a step jump of 3 and find out all the even number sin the 2d array\n",
        "\n",
        "newArray=np.array([])\n",
        "pos=0\n",
        "for i in range(1,31,3):\n",
        "  print(i)\n",
        "  \n",
        "  pos+=1\n",
        "#newArray=newArray.reshape(2,5)\n",
        "print(newArray)"
      ],
      "metadata": {
        "colab": {
          "base_uri": "https://localhost:8080/"
        },
        "id": "OogtxyBTRPmq",
        "outputId": "c091cb41-163c-4f05-f50f-c74a962a60a6"
      },
      "execution_count": 149,
      "outputs": [
        {
          "output_type": "stream",
          "name": "stdout",
          "text": [
            "[1 2 3 4 5]\n",
            "int64\n",
            "(5,)\n",
            "1\n",
            "5\n",
            "[[1 2 3 4 5]\n",
            " [1 2 3 4 5]]\n",
            "int64\n",
            "(2, 5)\n",
            "2\n",
            "10\n",
            "[[0. 0. 0. 0. 0. 0.]\n",
            " [0. 0. 0. 0. 0. 0.]\n",
            " [0. 0. 0. 0. 0. 0.]\n",
            " [0. 0. 0. 0. 0. 0.]\n",
            " [0. 0. 0. 0. 0. 0.]]\n",
            "Array:\n",
            " [[1. 2. 3. 4. 5.]\n",
            " [1. 2. 3. 4. 5.]]\n",
            "[ 0  5 10 15 20 25]\n",
            "[[0.27824903 0.8077589  0.01666621 0.89807282]\n",
            " [0.42023673 0.36864093 0.98303572 0.92752663]]\n",
            "1\n",
            "[[ 2  4  6]\n",
            " [ 8  9 11]]\n",
            "The elements are: 2\n",
            "The elements are: 4\n",
            "The elements are: 6\n",
            "The elements are: 8\n",
            "The elements are: 9\n",
            "The elements are: 11\n",
            "[ 1  2  3  4  5  6  7  8  9 10]\n",
            "(array([0]), array([1]))\n",
            "1\n",
            "4\n",
            "7\n",
            "10\n",
            "13\n",
            "16\n",
            "19\n",
            "22\n",
            "25\n",
            "28\n",
            "[]\n"
          ]
        }
      ]
    },
    {
      "cell_type": "code",
      "source": [
        "from numpy import random\n",
        "\n",
        "x=random.randint(100)\n",
        "print(x)\n",
        "for i in range(3,100):\n",
        "  x=random.randint(1000)\n",
        "\n",
        "y=random.rand(5)\n",
        "print(y)\n",
        "\n",
        "speed=[112,80,40,45,78, 78]\n",
        "x=np.std(speed)\n",
        "y=np.median(speed)\n",
        "#z=np.mode(speed,35)\n",
        "w=np.percentile(speed, 75)\n",
        "\n",
        "print(x)\n",
        "print(y)\n",
        "#print(z)\n",
        "print(w)\n"
      ],
      "metadata": {
        "colab": {
          "base_uri": "https://localhost:8080/"
        },
        "id": "remXMGPtb4Vf",
        "outputId": "ea610c52-f61e-465a-d5a3-a6b156387829"
      },
      "execution_count": 155,
      "outputs": [
        {
          "output_type": "stream",
          "name": "stdout",
          "text": [
            "97\n",
            "[0.77627815 0.17252948 0.02707909 0.88357626 0.38331563]\n",
            "24.11373513627083\n",
            "78.0\n",
            "79.5\n"
          ]
        }
      ]
    }
  ]
}