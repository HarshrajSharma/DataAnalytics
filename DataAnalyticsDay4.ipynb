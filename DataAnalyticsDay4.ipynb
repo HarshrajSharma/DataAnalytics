{
  "nbformat": 4,
  "nbformat_minor": 0,
  "metadata": {
    "colab": {
      "provenance": [],
      "authorship_tag": "ABX9TyN8uebxSCrNUP6+NvP9G+Im",
      "include_colab_link": true
    },
    "kernelspec": {
      "name": "python3",
      "display_name": "Python 3"
    },
    "language_info": {
      "name": "python"
    }
  },
  "cells": [
    {
      "cell_type": "markdown",
      "metadata": {
        "id": "view-in-github",
        "colab_type": "text"
      },
      "source": [
        "<a href=\"https://colab.research.google.com/github/HarshrajSharma/DataAnalytics/blob/main/DataAnalyticsDay4.ipynb\" target=\"_parent\"><img src=\"https://colab.research.google.com/assets/colab-badge.svg\" alt=\"Open In Colab\"/></a>"
      ]
    },
    {
      "cell_type": "markdown",
      "source": [
        "### **Day4**"
      ],
      "metadata": {
        "id": "cFWBv8T67VNu"
      }
    },
    {
      "cell_type": "code",
      "execution_count": 4,
      "metadata": {
        "colab": {
          "base_uri": "https://localhost:8080/"
        },
        "id": "xDtV0eIG7Q9y",
        "outputId": "ba5cd498-a6c4-429c-f681-53a09a6317d1"
      },
      "outputs": [
        {
          "output_type": "stream",
          "name": "stdout",
          "text": [
            "<class 'tuple'>\n",
            "<class 'list'>\n"
          ]
        }
      ],
      "source": [
        "#Create a list \n",
        "\n",
        "\n",
        "y=('Apple',2,3,4) #Tuple: Can keep different types of elements\n",
        "z=[1,2,3,4] #List: Can keep only same types of elements\n",
        "\n",
        "print(type(y))\n",
        "print(type(z))"
      ]
    },
    {
      "cell_type": "code",
      "source": [
        "myList=[]\n",
        "myTuple=()\n",
        "\n",
        "for i in range(0, 1000000):\n",
        "  myList.append(i)\n",
        "  myTuple.append(i)\n",
        "\n",
        "print(myList)\n",
        "print(myTuple)"
      ],
      "metadata": {
        "id": "k5aqlfB993Ek"
      },
      "execution_count": null,
      "outputs": []
    },
    {
      "cell_type": "code",
      "source": [
        "#Inbuilt functions for lists\n",
        "\n",
        "myList=list(range(0, 1000)) #list(range(0,345)) will create a list with sequential data\n",
        "print(myList)\n",
        "\n",
        "myTuple=tuple(range(0, 1000)) #tuple(range(0,345)) will create a list with sequential data\n",
        "print(myTuple)\n",
        "\n",
        "#Tuple used less memory than list for the same data\n",
        "#List is mutable whereas Tuple is immutable\n"
      ],
      "metadata": {
        "id": "x7U7PFqi-2d9"
      },
      "execution_count": null,
      "outputs": []
    },
    {
      "cell_type": "code",
      "source": [
        "import sys, platform,time\n",
        "\n",
        "myList=list(range(0, 100000))\n",
        "#myList[4]=1001  #Mutable\n",
        "\n",
        "myTuple=tuple(range(0, 100000))\n",
        "#myTuple[4]=5001 #Immutable\n",
        "\n",
        "print('List memory: ',sys.getsizeof(myList))\n",
        "print('Tuple memory: ', sys.getsizeof(myTuple))\n",
        "\n",
        "start=time.time_ns()\n",
        "for i in range(0, len(myList)):\n",
        "  a=myList[i]\n",
        "end=time.time_ns()\n",
        "print('Total time for list:', end- start)\n",
        "\n",
        "start=time.time_ns()\n",
        "for i in range(0, len(myTuple)):\n",
        "  a=myTuple[i]\n",
        "end=time.time_ns()\n",
        "print('Total time for tuple:', end- start)"
      ],
      "metadata": {
        "id": "YrrkLs5JADR-"
      },
      "execution_count": null,
      "outputs": []
    },
    {
      "cell_type": "code",
      "source": [
        "myList=list(range(0, 1000))\n",
        "squareList=[]\n",
        "\n",
        "print(myList[4:]) #Prints from 4 to the last element in the list\n",
        "\n",
        "\n",
        "for i in myList:\n",
        "  squareList.append(i**2)\n",
        "\n",
        "print(squareList)\n"
      ],
      "metadata": {
        "id": "R5O_dCTEDvTh"
      },
      "execution_count": null,
      "outputs": []
    },
    {
      "cell_type": "code",
      "source": [
        "#Find an element 22 in the list\n",
        "myList=list(range(0, 11))\n",
        "myList[4]=56\n",
        "print(myList)\n",
        "\n",
        "print(myList.index(56)) # .index() will give the index of the element if it is present in the list\n",
        "myList.remove(2)\n",
        "print(myList)\n"
      ],
      "metadata": {
        "colab": {
          "base_uri": "https://localhost:8080/"
        },
        "id": "07N7ihbUEXGc",
        "outputId": "7ce5e396-01e9-4f0b-91d2-68452f66d141"
      },
      "execution_count": 53,
      "outputs": [
        {
          "output_type": "stream",
          "name": "stdout",
          "text": [
            "[0, 1, 2, 3, 56, 5, 6, 7, 8, 9, 10]\n",
            "4\n",
            "[0, 1, 3, 56, 5, 6, 7, 8, 9, 10]\n"
          ]
        }
      ]
    },
    {
      "cell_type": "code",
      "source": [
        "#Remove all the elements from the third positionto last in a list\n",
        "\n",
        "myList=list(range(0,11))\n",
        "print(myList)\n",
        "\n",
        "del myList[2:] #Delete all the elements from 3rd position to the last\n",
        "print(myList)\n",
        "\n",
        "myList.pop(1) #Pops the element at position 0 in the list\n",
        "print(myList)"
      ],
      "metadata": {
        "colab": {
          "base_uri": "https://localhost:8080/"
        },
        "id": "sZ_GEXKAFhIr",
        "outputId": "83cbcff6-851d-4e06-bc69-804786b86b37"
      },
      "execution_count": 57,
      "outputs": [
        {
          "output_type": "stream",
          "name": "stdout",
          "text": [
            "[0, 1, 2, 3, 4, 5, 6, 7, 8, 9, 10]\n",
            "[0, 1]\n",
            "[0]\n"
          ]
        }
      ]
    },
    {
      "cell_type": "code",
      "source": [
        "#Sort function\n",
        "myList=[5,8,6,1,2,3,4,8,9,6,5,2,3,11]\n",
        "print(myList)\n",
        "myList.sort()\n",
        "print(myList)"
      ],
      "metadata": {
        "colab": {
          "base_uri": "https://localhost:8080/"
        },
        "id": "GdcPz2zNGKLx",
        "outputId": "d17be420-d3e4-47cf-9ee2-5673e310de6a"
      },
      "execution_count": 58,
      "outputs": [
        {
          "output_type": "stream",
          "name": "stdout",
          "text": [
            "[1, 2, 2, 3, 3, 4, 5, 5, 6, 6, 8, 8, 9, 11]\n"
          ]
        }
      ]
    },
    {
      "cell_type": "code",
      "source": [
        "#String library"
      ],
      "metadata": {
        "id": "aCAGnHsUHd_f"
      },
      "execution_count": null,
      "outputs": []
    },
    {
      "cell_type": "code",
      "source": [
        "#Generate a random password of length 10 such that two letters are upper case 1 is a digit 1 is a special character next find if @ is there in the password or not.\n",
        "#If not then replace the third character with @\n",
        "\n",
        "\n"
      ],
      "metadata": {
        "id": "x7ewhCoTG-WH"
      },
      "execution_count": null,
      "outputs": []
    }
  ]
}